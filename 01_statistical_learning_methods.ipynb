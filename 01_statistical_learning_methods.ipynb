{
 "cells": [
  {
   "cell_type": "markdown",
   "id": "f127bb78",
   "metadata": {},
   "source": [
    "# Métodos \"clásicos\" de aprendizaje estadístico"
   ]
  },
  {
   "cell_type": "markdown",
   "id": "f40b11be",
   "metadata": {},
   "source": [
    "## Este notebook contiene 3 ejercicios:\n",
    "1. Hacer nuestra propia implementación de KNN-I.\n",
    "2. Contruir un pipeline para aplicar KNN-I usando scikit-learn.\n",
    "3. Implementar MissForest usando los bloques de construcción que ofrece scikit-learn.\n",
    "4. Elegir un conjunto de metricas y comparar las 2 tecnicas !"
   ]
  },
  {
   "cell_type": "markdown",
   "id": "54e28047",
   "metadata": {},
   "source": [
    "Primero importemos todas las dependencias necesarias"
   ]
  },
  {
   "cell_type": "code",
   "execution_count": 33,
   "id": "95e058ad",
   "metadata": {},
   "outputs": [],
   "source": [
    "import time\n",
    "import copy\n",
    "import math\n",
    "import numpy as np\n",
    "import pandas as pd\n",
    "from sklearn.impute import KNNImputer\n",
    "from sklearn.preprocessing import StandardScaler\n",
    "from sklearn.experimental import enable_iterative_imputer\n",
    "from sklearn.impute import IterativeImputer\n",
    "from sklearn.ensemble import RandomForestRegressor"
   ]
  },
  {
   "cell_type": "markdown",
   "id": "2f02b6a0",
   "metadata": {},
   "source": [
    "Luego, importemos los datos meteorológicos"
   ]
  },
  {
   "cell_type": "code",
   "execution_count": 34,
   "id": "92346e5d",
   "metadata": {},
   "outputs": [],
   "source": [
    "marengo_df = pd.read_csv(\"src/marengo_nans.csv\")"
   ]
  },
  {
   "cell_type": "markdown",
   "id": "34c133ba",
   "metadata": {
    "vscode": {
     "languageId": "plaintext"
    }
   },
   "source": [
    "## KNN-I"
   ]
  },
  {
   "cell_type": "markdown",
   "id": "a91dad9f",
   "metadata": {},
   "source": [
    "Gran parte de los algoritmos de aprendizaje automático estan implementados en elegantes bibliotecas que permiten su rapida ejecución bajo el tradicional formato de dos métodos: ```.fit()``` y ```.predict()```.Esto reduce los algoritmos a una caja negra que algunos usuarios utilizan indiscriminadamente. La falta de comprensión del funcionamiento de los métodos es un riesgo para la calidad de los resultados.\n",
    "\n",
    "Aprovechando que KNN es un algoritmo de facil implementación, vamos a escribirlo nosotros mismos para interiorizar el funcionamiento. En un primer momento vamos a hacerlo con python puro."
   ]
  },
  {
   "cell_type": "markdown",
   "id": "67850dfd",
   "metadata": {},
   "source": [
    "### Ex.1: Hacer nuestra propia implementación de KNN-I."
   ]
  },
  {
   "cell_type": "markdown",
   "id": "f0f4cce0",
   "metadata": {},
   "source": [
    "Como lo mencionamos durante la presentación el algoritmo de los KNN consta de tres étapas.\n",
    "\n",
    "#### 1.Cálculo de la distancia entre observaciones.\n",
    "**Nota:** Nuestra implementación sera secuencial y busca ser lo más simple posible, para hacerla mas comprensible. Por lo tanto sacrificaremos la complejidad computacional de nuestro algoritmo."
   ]
  },
  {
   "cell_type": "code",
   "execution_count": null,
   "id": "13848c32",
   "metadata": {},
   "outputs": [],
   "source": [
    "def eucledian_distance_nans(a, b):\n",
    "    \"\"\"\n",
    "    Una función que calcule la distancia euclidiana entre dos vectores.\n",
    "    La distancia euclidiana entre dos puntos en un espacio n-dimensional es la raíz cuadrada de\n",
    "    la suma de las diferencias al cuadrado entre las coordenadas correspondientes de los puntos.\n",
    "    Esta implementación debe ser robusta a los valores faltantes dentro de los vectores.\n",
    "    \"\"\"\n",
    "    # Paso 1: Crear una mascara que indique los elementos que son NaN en uno o ambos vectores.\n",
    "    mascara = []\n",
    "    for i,j in zip(a, b):\n",
    "        if i is None or j is None:\n",
    "            mascara.append(False)\n",
    "        else:\n",
    "            mascara.append(True)\n",
    "\n",
    "    # TODO Paso 2: Estimar el ponderador contando los elementos que son Nan: # elemetos/# elementos comparables.\n",
    "\n",
    "    # Paso 3: Calcular la distancia eucladiana considerando solo los elementos no nulos. Devolver dicha distancia.\n",
    "    sumatoria = 0\n",
    "    for idx in range(len(a)):\n",
    "        # TODO Calcular la sumatoria al cuadrado interna de la distancia eucladiana incluyendo solo los elementos no nulos\n",
    "\n",
    "\n",
    "    return round(math.sqrt(weight * sumatoria), 8)"
   ]
  },
  {
   "cell_type": "code",
   "execution_count": 36,
   "id": "37bd2ebb",
   "metadata": {},
   "outputs": [
    {
     "name": "stdout",
     "output_type": "stream",
     "text": [
      "9.46572765\n",
      "24.11875382\n",
      "129.0736224\n"
     ]
    }
   ],
   "source": [
    "vec_1 = [0., 10., 5., None, 5., 1., 5., None]\n",
    "vec_2 = [1., None, 0., 7., 0., 2., 3., 10.]\n",
    "vec_3 = [15., 120., 10., 1., 2., 7., 15., 8.]\n",
    "print(eucledian_distance_nans(vec_1, vec_2))\n",
    "print(eucledian_distance_nans(vec_2, vec_3))\n",
    "print(eucledian_distance_nans(vec_3, vec_1))\n",
    "\n",
    "# LA RESPUESTA DEBE SER:\n",
    "# 9.46572765\n",
    "# 24.11875382\n",
    "# 129.0736224"
   ]
  },
  {
   "cell_type": "code",
   "execution_count": null,
   "id": "4e6450a3",
   "metadata": {},
   "outputs": [],
   "source": [
    "def calculate_distance_matrix(X):\n",
    "    ref_len = len(X[0])\n",
    "    for vec in X:\n",
    "        if len(vec) != ref_len:\n",
    "            raise KeyError(\"No todos los vectores tienen la misma dimension\")\n",
    "    #TODO Paso 1: Crear una matriz de 0s con las dimensiones de la matriz de distancias. nxn donde n es el num. de vectores.\n",
    "\n",
    "    #TODO: Llenar la matriz usando la función que acabamos de crear.\n",
    "\n",
    "    return matrix\n",
    "    "
   ]
  },
  {
   "cell_type": "code",
   "execution_count": 38,
   "id": "ba90ec31",
   "metadata": {},
   "outputs": [
    {
     "name": "stdout",
     "output_type": "stream",
     "text": [
      "Matriz:\n",
      "[0.0, 10.0, 5.0, None, 5.0, 1.0, 5.0, None]\n",
      "[1.0, None, 0.0, 7.0, 0.0, 2.0, 3.0, 10.0]\n",
      "[15.0, 120.0, 10.0, 1.0, 2.0, 7.0, 15.0, 8.0]\n",
      "[0.0, None, 10.0, 17.0, 20.0, 32.0, 5.0, 0.0]\n",
      "[15.0, 120.0, 10.0, None, 3.0, 1.0, 0.0, 0.0]\n",
      "\n",
      "\n",
      "Matriz de distancias:\n",
      "[0.0, 9.46572765, 129.0736224, 44.01817806, 128.47308408]\n",
      "[9.46572765, 0.0, 24.11875382, 42.8285619, 23.52303835]\n",
      "[129.0736224, 24.11875382, 0.0, 42.68154502, 19.30210943]\n",
      "[44.01817806, 42.8285619, 42.68154502, 0.0, 44.72135955]\n",
      "[128.47308408, 23.52303835, 19.30210943, 44.72135955, 0.0]\n"
     ]
    }
   ],
   "source": [
    "vec_4 = [0., None, 10., 17., 20., 32., 5., 0.]\n",
    "vec_5 = [15., 120., 10., None, 3., 1., 0., 0.]\n",
    "matrix_1 = [vec_1, vec_2, vec_3, vec_4, vec_5]\n",
    "\n",
    "print(\"Matriz:\")\n",
    "for i in matrix_1:\n",
    "    print(i)\n",
    "print(\"\\n\")\n",
    "\n",
    "dist_matrix = calculate_distance_matrix(matrix_1)\n",
    "print(\"Matriz de distancias:\")\n",
    "for i in dist_matrix:\n",
    "    print(i)\n",
    "\n",
    "# LA RESPUESTA DEBE SER:\n",
    "# Matriz de distancias:\n",
    "# [0.0, 9.46572765, 129.0736224, 44.01817806, 128.47308408]\n",
    "# [9.46572765, 0.0, 24.11875382, 42.8285619, 23.52303835]\n",
    "# [129.0736224, 24.11875382, 0.0, 42.68154502, 19.30210943]\n",
    "# [44.01817806, 42.8285619, 42.68154502, 0.0, 44.72135955]\n",
    "# [128.47308408, 23.52303835, 19.30210943, 44.72135955, 0.0]"
   ]
  },
  {
   "cell_type": "markdown",
   "id": "1cfa9607",
   "metadata": {},
   "source": [
    "#### 2. Cálculo de los k vecinos más cercanos"
   ]
  },
  {
   "cell_type": "code",
   "execution_count": null,
   "id": "3fc73ed5",
   "metadata": {},
   "outputs": [],
   "source": [
    "def generar_matriz_vecinos(k, X, X_dist):\n",
    "    \"\"\"\n",
    "    Genera una matriz que guarda el indice de los k vecinos más cercanos de cada vector en la matriz de distancias.\n",
    "    \"\"\"\n",
    "    # TODO Paso 1: Crear una matriz de 0s con las dimensiones de la matriz de vecinos. nxk donde n es el num. de vectores.\n",
    "\n",
    "    \n",
    "    # Paso 2: Llenar la matriz usando la matriz de distancias.\n",
    "    for i in range(len(X)):\n",
    "        # TODO :Obtener los indices de los k vecinos más cercanos a X[i] ordenados por distancia. Recuerde eliminar el indice del propio vector !\n",
    "\n",
    "    \n",
    "    return matriz_vecinos\n",
    " "
   ]
  },
  {
   "cell_type": "code",
   "execution_count": 40,
   "id": "034a6fee",
   "metadata": {},
   "outputs": [
    {
     "name": "stdout",
     "output_type": "stream",
     "text": [
      "[[1, 3], [0, 4], [4, 1], [2, 1], [2, 1]]\n"
     ]
    }
   ],
   "source": [
    "print(generar_matriz_vecinos(2, matrix_1, dist_matrix))\n",
    "# LA RESPUESTA DEBE SER:\n",
    "# [[1, 3], [0, 4], [4, 1], [2, 1], [2, 1]]"
   ]
  },
  {
   "cell_type": "markdown",
   "id": "cea46a45",
   "metadata": {},
   "source": [
    "#### 3. Imputar los valores faltantes usando la media de los k vecinos más cercanos"
   ]
  },
  {
   "cell_type": "code",
   "execution_count": null,
   "id": "924a0631",
   "metadata": {},
   "outputs": [],
   "source": [
    "def knn_eucledian_imputer(X, k):\n",
    "    \"\"\"\n",
    "    Imputa los valores faltantes en la matriz X utilizando el algoritmo KNN.\n",
    "    \"\"\"\n",
    "    # Paso 1: Calcular la matriz de distancias entre los vectores de X.\n",
    "    dist_matrix = calculate_distance_matrix(X)\n",
    "    # Paso 2: Generar la matriz de indices de los k vecinos más cercanos.\n",
    "    vecinos = generar_matriz_vecinos(k, X, dist_matrix)\n",
    "    # Paso 3: Crear una copia de X para almacenar los valores imputados.\n",
    "    X_imputed = copy.deepcopy(X)\n",
    "\n",
    "    # Paso 4: Iterar sobre cada vector en X.\n",
    "    for idx in range(len(X)):\n",
    "        # Paso 5: Iterar sobre cada elemento del vector.\n",
    "        for jdx in range(len(X[idx])):\n",
    "            # Si el elemento es NaN, imputar su valor.\n",
    "            if X[idx][jdx] is None:\n",
    "                # TODO Paso 6: Obtener los valores de los k vecinos más cercanos.\n",
    "\n",
    "                # TODO Paso 7: Calcular la media de los valores de los vecinos y asignarla al elemento faltante. Ojo, considerar la excepción de que no haya vecinos con valores no NaN.\n",
    "\n",
    "                else:\n",
    "                    X_imputed[idx][jdx] = None\n",
    "    \n",
    "    return X_imputed"
   ]
  },
  {
   "cell_type": "code",
   "execution_count": 42,
   "id": "a1061a07",
   "metadata": {},
   "outputs": [
    {
     "name": "stdout",
     "output_type": "stream",
     "text": [
      "Matriz imputada:\n",
      "[0.0, 10.0, 5.0, 12.0, 5.0, 1.0, 5.0, 5.0]\n",
      "[1.0, 65.0, 0.0, 7.0, 0.0, 2.0, 3.0, 10.0]\n",
      "[15.0, 120.0, 10.0, 1.0, 2.0, 7.0, 15.0, 8.0]\n",
      "[0.0, 120.0, 10.0, 17.0, 20.0, 32.0, 5.0, 0.0]\n",
      "[15.0, 120.0, 10.0, 4.0, 3.0, 1.0, 0.0, 0.0]\n"
     ]
    }
   ],
   "source": [
    "imputed_matrix = knn_eucledian_imputer(matrix_1, 2)\n",
    "print(\"Matriz imputada:\")\n",
    "for i in imputed_matrix:\n",
    "    print(i)\n",
    "\n",
    "# LA RESPUESTA DEBE SER:\n",
    "# [0.0, 10.0, 5.0, 12.0, 5.0, 1.0, 5.0, 5.0]\n",
    "# [1.0, 65.0, 0.0, 7.0, 0.0, 2.0, 3.0, 10.0]\n",
    "# [15.0, 120.0, 10.0, 1.0, 2.0, 7.0, 15.0, 8.0]\n",
    "# [0.0, 92.5, 10.0, 17.0, 20.0, 32.0, 5.0, 0.0]\n",
    "# [15.0, 120.0, 10.0, 4.0, 3.0, 1.0, 0.0, 0.0]"
   ]
  },
  {
   "cell_type": "markdown",
   "id": "cd7d4cac",
   "metadata": {},
   "source": [
    "#### **Probemos nuestra implementación en los datos reales!**"
   ]
  },
  {
   "cell_type": "code",
   "execution_count": 43,
   "id": "fe43dc74",
   "metadata": {},
   "outputs": [
    {
     "name": "stdout",
     "output_type": "stream",
     "text": [
      "Tiempo de ejecución: 8.30 segundos\n",
      "Matriz imputada de Marengo:\n",
      "[13.508667, 19.367, 8.467, 23.900002, 42680.883, 13.708391, 35.28, 20.6, 3.4468565]\n",
      "[14.596166, 19.317001, 11.167, 1.5699999539999998, 42684.59, 13.493999, 33.48, 19.57375, 3.663233]\n",
      "[13.248249, 20.417, 8.217, 1.7, 42688.617, 10.446206, 30.599998, 23.35, 4.0588975]\n",
      "[12.804502, 19.417, 7.467, 1.3000001, 42692.95, 14.05845, 37.44, 25.6, 4.251072]\n",
      "[12.331582, 18.767, 7.174142714285714, 0.0, 42697.59, 15.39184, 36.36, 23.75, 3.9684093]\n",
      "[12.266999, 19.94557157142857, 6.87325, 0.0, 42702.523, 15.119999, 38.519997, 24.43, 3.959472]\n",
      "[12.875333, 21.117, 5.817, 0.1, 42707.75, 14.320731649999999, 23.039999, 25.17, 4.401479]\n",
      "[11.935749, 20.267, 4.467, 0.0, 42713.258, 15.876775, 40.8599985, 26.24, 4.566951]\n",
      "[13.164916, 20.667, 7.1670003, 0.0, 42719.04, 19.164717, 46.44, 23.83, 4.1956615]\n",
      "[12.521167, 18.667, 6.517, 0.0, 42725.094, 23.277834, 53.639996, 26.48, 4.431484]\n"
     ]
    }
   ],
   "source": [
    "marengo_lists = marengo_df.iloc[:,4:].values.tolist()\n",
    "marengo_lists = [[None if pd.isna(x) else x for x in row] for row in marengo_lists]\n",
    "start_time = time.time()\n",
    "imputed_marengo = knn_eucledian_imputer(marengo_lists, 10)\n",
    "end_time = time.time()\n",
    "print(f\"Tiempo de ejecución: {end_time - start_time:.2f} segundos\")\n",
    "print(\"Matriz imputada de Marengo:\")\n",
    "for i in imputed_marengo[:10]:  # Imprimimos solo las primeras 10 filas por brevedad\n",
    "    print(i)"
   ]
  },
  {
   "cell_type": "markdown",
   "id": "c68cb7d7",
   "metadata": {},
   "source": [
    "### Ex.2: Contruir un pipeline para aplicar KNN-I usando scikit-learn."
   ]
  },
  {
   "cell_type": "code",
   "execution_count": null,
   "id": "7aa219f0",
   "metadata": {},
   "outputs": [
    {
     "data": {
      "text/html": [
       "<div>\n",
       "<style scoped>\n",
       "    .dataframe tbody tr th:only-of-type {\n",
       "        vertical-align: middle;\n",
       "    }\n",
       "\n",
       "    .dataframe tbody tr th {\n",
       "        vertical-align: top;\n",
       "    }\n",
       "\n",
       "    .dataframe thead th {\n",
       "        text-align: right;\n",
       "    }\n",
       "</style>\n",
       "<table border=\"1\" class=\"dataframe\">\n",
       "  <thead>\n",
       "    <tr style=\"text-align: right;\">\n",
       "      <th></th>\n",
       "      <th>temperature_2m_mean</th>\n",
       "      <th>temperature_2m_max</th>\n",
       "      <th>temperature_2m_min</th>\n",
       "      <th>precipitation_sum</th>\n",
       "      <th>daylight_duration</th>\n",
       "      <th>wind_speed_10m_max</th>\n",
       "      <th>wind_gusts_10m_max</th>\n",
       "      <th>shortwave_radiation_sum</th>\n",
       "      <th>et0_fao_evapotranspiration</th>\n",
       "    </tr>\n",
       "  </thead>\n",
       "  <tbody>\n",
       "    <tr>\n",
       "      <th>0</th>\n",
       "      <td>24.960969</td>\n",
       "      <td>47.155395</td>\n",
       "      <td>21.233263</td>\n",
       "      <td>126.450245</td>\n",
       "      <td>2.876964e+07</td>\n",
       "      <td>75.582353</td>\n",
       "      <td>350.349306</td>\n",
       "      <td>87.409488</td>\n",
       "      <td>5.692513</td>\n",
       "    </tr>\n",
       "    <tr>\n",
       "      <th>1</th>\n",
       "      <td>25.890462</td>\n",
       "      <td>47.083797</td>\n",
       "      <td>25.291172</td>\n",
       "      <td>6.722824</td>\n",
       "      <td>2.877213e+07</td>\n",
       "      <td>74.619409</td>\n",
       "      <td>334.297042</td>\n",
       "      <td>89.156505</td>\n",
       "      <td>5.824552</td>\n",
       "    </tr>\n",
       "    <tr>\n",
       "      <th>2</th>\n",
       "      <td>24.738388</td>\n",
       "      <td>48.658992</td>\n",
       "      <td>20.857531</td>\n",
       "      <td>12.129868</td>\n",
       "      <td>2.877484e+07</td>\n",
       "      <td>60.930213</td>\n",
       "      <td>308.613401</td>\n",
       "      <td>96.389483</td>\n",
       "      <td>6.065998</td>\n",
       "    </tr>\n",
       "    <tr>\n",
       "      <th>3</th>\n",
       "      <td>24.359115</td>\n",
       "      <td>47.226995</td>\n",
       "      <td>19.730334</td>\n",
       "      <td>10.070042</td>\n",
       "      <td>2.877776e+07</td>\n",
       "      <td>77.154647</td>\n",
       "      <td>369.612023</td>\n",
       "      <td>103.736751</td>\n",
       "      <td>6.183268</td>\n",
       "    </tr>\n",
       "    <tr>\n",
       "      <th>4</th>\n",
       "      <td>23.954907</td>\n",
       "      <td>46.296197</td>\n",
       "      <td>16.574183</td>\n",
       "      <td>3.375605</td>\n",
       "      <td>2.878088e+07</td>\n",
       "      <td>83.143583</td>\n",
       "      <td>359.980665</td>\n",
       "      <td>97.695664</td>\n",
       "      <td>6.010779</td>\n",
       "    </tr>\n",
       "    <tr>\n",
       "      <th>5</th>\n",
       "      <td>23.899707</td>\n",
       "      <td>50.234188</td>\n",
       "      <td>17.701380</td>\n",
       "      <td>3.375605</td>\n",
       "      <td>2.878420e+07</td>\n",
       "      <td>81.922606</td>\n",
       "      <td>379.243355</td>\n",
       "      <td>99.916171</td>\n",
       "      <td>6.005325</td>\n",
       "    </tr>\n",
       "    <tr>\n",
       "      <th>6</th>\n",
       "      <td>24.419655</td>\n",
       "      <td>49.661390</td>\n",
       "      <td>17.250501</td>\n",
       "      <td>3.890562</td>\n",
       "      <td>2.878772e+07</td>\n",
       "      <td>97.275393</td>\n",
       "      <td>241.193899</td>\n",
       "      <td>102.332606</td>\n",
       "      <td>6.275051</td>\n",
       "    </tr>\n",
       "    <tr>\n",
       "      <th>7</th>\n",
       "      <td>23.616586</td>\n",
       "      <td>48.444192</td>\n",
       "      <td>15.221546</td>\n",
       "      <td>3.375605</td>\n",
       "      <td>2.879143e+07</td>\n",
       "      <td>85.321674</td>\n",
       "      <td>395.295628</td>\n",
       "      <td>105.826641</td>\n",
       "      <td>6.376026</td>\n",
       "    </tr>\n",
       "    <tr>\n",
       "      <th>8</th>\n",
       "      <td>24.667163</td>\n",
       "      <td>49.016991</td>\n",
       "      <td>19.279456</td>\n",
       "      <td>3.375605</td>\n",
       "      <td>2.879532e+07</td>\n",
       "      <td>100.089502</td>\n",
       "      <td>449.873345</td>\n",
       "      <td>97.956900</td>\n",
       "      <td>6.149455</td>\n",
       "    </tr>\n",
       "    <tr>\n",
       "      <th>9</th>\n",
       "      <td>24.116947</td>\n",
       "      <td>46.152998</td>\n",
       "      <td>18.302551</td>\n",
       "      <td>3.375605</td>\n",
       "      <td>2.879939e+07</td>\n",
       "      <td>118.563613</td>\n",
       "      <td>514.082367</td>\n",
       "      <td>106.610349</td>\n",
       "      <td>6.293361</td>\n",
       "    </tr>\n",
       "  </tbody>\n",
       "</table>\n",
       "</div>"
      ],
      "text/plain": [
       "   temperature_2m_mean  temperature_2m_max  temperature_2m_min  \\\n",
       "0            24.960969           47.155395           21.233263   \n",
       "1            25.890462           47.083797           25.291172   \n",
       "2            24.738388           48.658992           20.857531   \n",
       "3            24.359115           47.226995           19.730334   \n",
       "4            23.954907           46.296197           16.574183   \n",
       "5            23.899707           50.234188           17.701380   \n",
       "6            24.419655           49.661390           17.250501   \n",
       "7            23.616586           48.444192           15.221546   \n",
       "8            24.667163           49.016991           19.279456   \n",
       "9            24.116947           46.152998           18.302551   \n",
       "\n",
       "   precipitation_sum  daylight_duration  wind_speed_10m_max  \\\n",
       "0         126.450245       2.876964e+07           75.582353   \n",
       "1           6.722824       2.877213e+07           74.619409   \n",
       "2          12.129868       2.877484e+07           60.930213   \n",
       "3          10.070042       2.877776e+07           77.154647   \n",
       "4           3.375605       2.878088e+07           83.143583   \n",
       "5           3.375605       2.878420e+07           81.922606   \n",
       "6           3.890562       2.878772e+07           97.275393   \n",
       "7           3.375605       2.879143e+07           85.321674   \n",
       "8           3.375605       2.879532e+07          100.089502   \n",
       "9           3.375605       2.879939e+07          118.563613   \n",
       "\n",
       "   wind_gusts_10m_max  shortwave_radiation_sum  et0_fao_evapotranspiration  \n",
       "0          350.349306                87.409488                    5.692513  \n",
       "1          334.297042                89.156505                    5.824552  \n",
       "2          308.613401                96.389483                    6.065998  \n",
       "3          369.612023               103.736751                    6.183268  \n",
       "4          359.980665                97.695664                    6.010779  \n",
       "5          379.243355                99.916171                    6.005325  \n",
       "6          241.193899               102.332606                    6.275051  \n",
       "7          395.295628               105.826641                    6.376026  \n",
       "8          449.873345                97.956900                    6.149455  \n",
       "9          514.082367               106.610349                    6.293361  "
      ]
     },
     "execution_count": 47,
     "metadata": {},
     "output_type": "execute_result"
    }
   ],
   "source": [
    "# TODO Escalar los datos para mejorar la precisión del KNN usando la clase StandardScaler de sklearn.\n",
    "\n",
    "# TODO usar la implementacion del algoritmo KNN de sklearn para imputar los valores faltantes de la matriz de Marengo.\n",
    "# Este es el ejercicio más sencillo, ya que sklearn se encarga de todo el proceso de cálculo de distancias y vecinos.\n",
    "# Puede resolverse usando solo dos lineas de codigo, una para crear una instacia de la clase KNNImputer y otra para imputar los valores faltantes.\n",
    "\n",
    "# Invertir el escalado para que los datos imputados estén en la misma escala que los originales.\n",
    "imputed_array = scaler.inverse_transform(imputed_array)\n",
    "# Tomar los resultados y convertirlos de nuevo en DataFrame :)\n",
    "imputed_df = pd.DataFrame(imputed_array, columns=marengo_df.iloc[:, 4:].columns)\n",
    "imputed_df.head(10)"
   ]
  },
  {
   "cell_type": "markdown",
   "id": "cc78a9a8",
   "metadata": {},
   "source": [
    "### Ex.3: Implementar MissForest usando los bloques de construcción que ofrece scikit-learn."
   ]
  },
  {
   "cell_type": "code",
   "execution_count": null,
   "id": "6ea1266e",
   "metadata": {},
   "outputs": [
    {
     "name": "stderr",
     "output_type": "stream",
     "text": [
      "/home/julagu/miniconda3/envs/hydro_imputation/lib/python3.10/site-packages/sklearn/impute/_iterative.py:895: ConvergenceWarning: [IterativeImputer] Early stopping criterion not reached.\n",
      "  warnings.warn(\n"
     ]
    },
    {
     "data": {
      "text/html": [
       "<div>\n",
       "<style scoped>\n",
       "    .dataframe tbody tr th:only-of-type {\n",
       "        vertical-align: middle;\n",
       "    }\n",
       "\n",
       "    .dataframe tbody tr th {\n",
       "        vertical-align: top;\n",
       "    }\n",
       "\n",
       "    .dataframe thead th {\n",
       "        text-align: right;\n",
       "    }\n",
       "</style>\n",
       "<table border=\"1\" class=\"dataframe\">\n",
       "  <thead>\n",
       "    <tr style=\"text-align: right;\">\n",
       "      <th></th>\n",
       "      <th>temperature_2m_mean</th>\n",
       "      <th>temperature_2m_max</th>\n",
       "      <th>temperature_2m_min</th>\n",
       "      <th>precipitation_sum</th>\n",
       "      <th>daylight_duration</th>\n",
       "      <th>wind_speed_10m_max</th>\n",
       "      <th>wind_gusts_10m_max</th>\n",
       "      <th>shortwave_radiation_sum</th>\n",
       "      <th>et0_fao_evapotranspiration</th>\n",
       "    </tr>\n",
       "  </thead>\n",
       "  <tbody>\n",
       "    <tr>\n",
       "      <th>0</th>\n",
       "      <td>13.508667</td>\n",
       "      <td>19.367000</td>\n",
       "      <td>8.467</td>\n",
       "      <td>23.900002</td>\n",
       "      <td>42680.883</td>\n",
       "      <td>13.708391</td>\n",
       "      <td>35.280000</td>\n",
       "      <td>20.600</td>\n",
       "      <td>3.446856</td>\n",
       "    </tr>\n",
       "    <tr>\n",
       "      <th>1</th>\n",
       "      <td>14.596166</td>\n",
       "      <td>19.317001</td>\n",
       "      <td>11.167</td>\n",
       "      <td>2.230000</td>\n",
       "      <td>42684.590</td>\n",
       "      <td>13.493999</td>\n",
       "      <td>33.480000</td>\n",
       "      <td>20.553</td>\n",
       "      <td>3.663233</td>\n",
       "    </tr>\n",
       "    <tr>\n",
       "      <th>2</th>\n",
       "      <td>13.248249</td>\n",
       "      <td>20.417000</td>\n",
       "      <td>8.217</td>\n",
       "      <td>1.700000</td>\n",
       "      <td>42688.617</td>\n",
       "      <td>10.446206</td>\n",
       "      <td>30.599998</td>\n",
       "      <td>23.350</td>\n",
       "      <td>4.058897</td>\n",
       "    </tr>\n",
       "    <tr>\n",
       "      <th>3</th>\n",
       "      <td>12.804502</td>\n",
       "      <td>19.417000</td>\n",
       "      <td>7.467</td>\n",
       "      <td>1.300000</td>\n",
       "      <td>42692.950</td>\n",
       "      <td>14.058450</td>\n",
       "      <td>37.440000</td>\n",
       "      <td>25.600</td>\n",
       "      <td>4.251072</td>\n",
       "    </tr>\n",
       "    <tr>\n",
       "      <th>4</th>\n",
       "      <td>12.331582</td>\n",
       "      <td>18.767000</td>\n",
       "      <td>6.127</td>\n",
       "      <td>0.000000</td>\n",
       "      <td>42697.590</td>\n",
       "      <td>15.391840</td>\n",
       "      <td>36.360000</td>\n",
       "      <td>23.750</td>\n",
       "      <td>3.968409</td>\n",
       "    </tr>\n",
       "    <tr>\n",
       "      <th>5</th>\n",
       "      <td>12.266999</td>\n",
       "      <td>18.597001</td>\n",
       "      <td>5.957</td>\n",
       "      <td>0.000000</td>\n",
       "      <td>42702.523</td>\n",
       "      <td>15.119999</td>\n",
       "      <td>38.519997</td>\n",
       "      <td>24.430</td>\n",
       "      <td>3.959472</td>\n",
       "    </tr>\n",
       "    <tr>\n",
       "      <th>6</th>\n",
       "      <td>12.875333</td>\n",
       "      <td>21.117000</td>\n",
       "      <td>5.817</td>\n",
       "      <td>0.100000</td>\n",
       "      <td>42707.750</td>\n",
       "      <td>8.422382</td>\n",
       "      <td>23.039999</td>\n",
       "      <td>25.170</td>\n",
       "      <td>4.401479</td>\n",
       "    </tr>\n",
       "    <tr>\n",
       "      <th>7</th>\n",
       "      <td>11.935749</td>\n",
       "      <td>20.267000</td>\n",
       "      <td>4.467</td>\n",
       "      <td>0.000000</td>\n",
       "      <td>42713.258</td>\n",
       "      <td>15.876775</td>\n",
       "      <td>39.023999</td>\n",
       "      <td>26.240</td>\n",
       "      <td>4.566951</td>\n",
       "    </tr>\n",
       "    <tr>\n",
       "      <th>8</th>\n",
       "      <td>13.164916</td>\n",
       "      <td>20.667000</td>\n",
       "      <td>7.167</td>\n",
       "      <td>0.000000</td>\n",
       "      <td>42719.040</td>\n",
       "      <td>19.164717</td>\n",
       "      <td>46.440000</td>\n",
       "      <td>23.830</td>\n",
       "      <td>4.195661</td>\n",
       "    </tr>\n",
       "    <tr>\n",
       "      <th>9</th>\n",
       "      <td>12.521167</td>\n",
       "      <td>18.667000</td>\n",
       "      <td>6.517</td>\n",
       "      <td>0.000000</td>\n",
       "      <td>42725.094</td>\n",
       "      <td>23.277834</td>\n",
       "      <td>53.639996</td>\n",
       "      <td>26.480</td>\n",
       "      <td>4.431484</td>\n",
       "    </tr>\n",
       "  </tbody>\n",
       "</table>\n",
       "</div>"
      ],
      "text/plain": [
       "   temperature_2m_mean  temperature_2m_max  temperature_2m_min  \\\n",
       "0            13.508667           19.367000               8.467   \n",
       "1            14.596166           19.317001              11.167   \n",
       "2            13.248249           20.417000               8.217   \n",
       "3            12.804502           19.417000               7.467   \n",
       "4            12.331582           18.767000               6.127   \n",
       "5            12.266999           18.597001               5.957   \n",
       "6            12.875333           21.117000               5.817   \n",
       "7            11.935749           20.267000               4.467   \n",
       "8            13.164916           20.667000               7.167   \n",
       "9            12.521167           18.667000               6.517   \n",
       "\n",
       "   precipitation_sum  daylight_duration  wind_speed_10m_max  \\\n",
       "0          23.900002          42680.883           13.708391   \n",
       "1           2.230000          42684.590           13.493999   \n",
       "2           1.700000          42688.617           10.446206   \n",
       "3           1.300000          42692.950           14.058450   \n",
       "4           0.000000          42697.590           15.391840   \n",
       "5           0.000000          42702.523           15.119999   \n",
       "6           0.100000          42707.750            8.422382   \n",
       "7           0.000000          42713.258           15.876775   \n",
       "8           0.000000          42719.040           19.164717   \n",
       "9           0.000000          42725.094           23.277834   \n",
       "\n",
       "   wind_gusts_10m_max  shortwave_radiation_sum  et0_fao_evapotranspiration  \n",
       "0           35.280000                   20.600                    3.446856  \n",
       "1           33.480000                   20.553                    3.663233  \n",
       "2           30.599998                   23.350                    4.058897  \n",
       "3           37.440000                   25.600                    4.251072  \n",
       "4           36.360000                   23.750                    3.968409  \n",
       "5           38.519997                   24.430                    3.959472  \n",
       "6           23.039999                   25.170                    4.401479  \n",
       "7           39.023999                   26.240                    4.566951  \n",
       "8           46.440000                   23.830                    4.195661  \n",
       "9           53.639996                   26.480                    4.431484  "
      ]
     },
     "execution_count": 50,
     "metadata": {},
     "output_type": "execute_result"
    }
   ],
   "source": [
    "# TODO Escalar los datos\n",
    "\n",
    "\n",
    "# TODO Imputar usando IterativeImputer con RandomForestRegressor\n",
    "\n",
    "\n",
    "imputed_data = scaler.inverse_transform(imputed_scaled)\n",
    "imputed_df = pd.DataFrame(imputed_data, columns=marengo_df.iloc[:, 4:].columns)\n",
    "\n",
    "imputed_df.head(10)"
   ]
  },
  {
   "cell_type": "markdown",
   "id": "1bfef39f",
   "metadata": {},
   "source": [
    "### Ex4. Elegir un conjunto de metricas y comparar las 2 tecnicas !"
   ]
  },
  {
   "cell_type": "code",
   "execution_count": null,
   "id": "de91807a",
   "metadata": {},
   "outputs": [],
   "source": [
    "# TODO Ver la documentacion de Sklearn y utilizar metricas de regresión para evaluar la calidad de la imputación. Recuerden que tenemos los datos reales !!!"
   ]
  }
 ],
 "metadata": {
  "kernelspec": {
   "display_name": "hydro_imputation",
   "language": "python",
   "name": "python3"
  },
  "language_info": {
   "codemirror_mode": {
    "name": "ipython",
    "version": 3
   },
   "file_extension": ".py",
   "mimetype": "text/x-python",
   "name": "python",
   "nbconvert_exporter": "python",
   "pygments_lexer": "ipython3",
   "version": "3.10.0"
  }
 },
 "nbformat": 4,
 "nbformat_minor": 5
}

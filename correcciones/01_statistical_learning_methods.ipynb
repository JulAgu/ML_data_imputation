{
 "cells": [
  {
   "cell_type": "markdown",
   "id": "f127bb78",
   "metadata": {},
   "source": [
    "# Métodos \"clásicos\" de aprendizaje estadístico"
   ]
  },
  {
   "cell_type": "markdown",
   "id": "f40b11be",
   "metadata": {},
   "source": [
    "## Este notebook contiene 3 ejercicios:\n",
    "1. Hacer nuestra propia implementación de KNN-I.\n",
    "2. Contruir un pipeline para aplicar KNN-I usando scikit-learn.\n",
    "3. Implementar MissForest usando los bloques de construcción que ofrece scikit-learn.\n",
    "4. Elegir un conjunto de metricas y comparar las 2 tecnicas !"
   ]
  },
  {
   "cell_type": "markdown",
   "id": "54e28047",
   "metadata": {},
   "source": [
    "Primero importemos todas las dependencias necesarias"
   ]
  },
  {
   "cell_type": "code",
   "execution_count": 1,
   "id": "95e058ad",
   "metadata": {},
   "outputs": [],
   "source": [
    "import time\n",
    "import copy\n",
    "import math\n",
    "import numpy as np\n",
    "import pandas as pd\n",
    "from sklearn.impute import KNNImputer\n",
    "from sklearn.preprocessing import StandardScaler\n",
    "from sklearn.experimental import enable_iterative_imputer\n",
    "from sklearn.impute import IterativeImputer\n",
    "from sklearn.ensemble import RandomForestRegressor"
   ]
  },
  {
   "cell_type": "markdown",
   "id": "2f02b6a0",
   "metadata": {},
   "source": [
    "Luego, importemos los datos meteorológicos"
   ]
  },
  {
   "cell_type": "code",
   "execution_count": 2,
   "id": "92346e5d",
   "metadata": {},
   "outputs": [],
   "source": [
    "marengo_df = pd.read_csv(\"../src/marengo_nans.csv\")"
   ]
  },
  {
   "cell_type": "markdown",
   "id": "34c133ba",
   "metadata": {
    "vscode": {
     "languageId": "plaintext"
    }
   },
   "source": [
    "## KNN-I"
   ]
  },
  {
   "cell_type": "markdown",
   "id": "a91dad9f",
   "metadata": {},
   "source": [
    "Gran parte de los algoritmos de aprendizaje automático estan implementados en elegantes bibliotecas que permiten su rapida ejecución bajo el tradicional formato de dos métodos: ```.fit()``` y ```.predict()```.Esto reduce los algoritmos a una caja negra que algunos usuarios utilizan indiscriminadamente. La falta de comprensión del funcionamiento de los métodos es un riesgo para la calidad de los resultados.\n",
    "\n",
    "Aprovechando que KNN es un algoritmo de facil implementación, vamos a escribirlo nosotros mismos para interiorizar el funcionamiento. En un primer momento vamos a hacerlo con python puro."
   ]
  },
  {
   "cell_type": "markdown",
   "id": "67850dfd",
   "metadata": {},
   "source": [
    "### Ex.1: Hacer nuestra propia implementación de KNN-I."
   ]
  },
  {
   "cell_type": "markdown",
   "id": "f0f4cce0",
   "metadata": {},
   "source": [
    "Como lo mencionamos durante la presentación el algoritmo de los KNN consta de tres étapas.\n",
    "\n",
    "#### 1.Cálculo de la distancia entre observaciones.\n",
    "**Nota:** Nuestra implementación sera secuencial y busca ser lo más simple posible, para hacerla mas comprensible. Por lo tanto sacrificaremos la complejidad computacional de nuestro algoritmo."
   ]
  },
  {
   "cell_type": "code",
   "execution_count": 3,
   "id": "13848c32",
   "metadata": {},
   "outputs": [],
   "source": [
    "def eucledian_distance_nans(a, b):\n",
    "    \"\"\"\n",
    "    Una función que calcule la distancia euclidiana entre dos vectores.\n",
    "    La distancia euclidiana entre dos puntos en un espacio n-dimensional es la raíz cuadrada de\n",
    "    la suma de las diferencias al cuadrado entre las coordenadas correspondientes de los puntos.\n",
    "    Esta implementación debe ser robusta a los valores faltantes dentro de los vectores.\n",
    "    \"\"\"\n",
    "    # Paso 1: Crear una mascara que indique los elementos que son NaN en uno o ambos vectores.\n",
    "    mascara = []\n",
    "    for i,j in zip(a, b):\n",
    "        if i is None or j is None:\n",
    "            mascara.append(False)\n",
    "        else:\n",
    "            mascara.append(True)\n",
    "\n",
    "    # TODO Paso 2: Estimar el ponderador contando los elementos que son Nan: # elemetos/# elementos comparables.\n",
    "    weight = len(mascara)/mascara.count(True)\n",
    "\n",
    "    # Paso 3: Calcular la distancia eucladiana considerando solo los elementos no nulos. Devolver dicha distancia.\n",
    "    sumatoria = 0\n",
    "    for idx in range(len(a)):\n",
    "        # TODO Calcular la sumatoria al cuadrado interna de la distancia eucladiana incluyendo solo los elementos no nulos\n",
    "        if mascara[idx]:\n",
    "            sumatoria += (a[idx]-b[idx])**2\n",
    "\n",
    "    return round(math.sqrt(weight * sumatoria), 8)"
   ]
  },
  {
   "cell_type": "code",
   "execution_count": 4,
   "id": "37bd2ebb",
   "metadata": {},
   "outputs": [
    {
     "name": "stdout",
     "output_type": "stream",
     "text": [
      "9.46572765\n",
      "24.11875382\n",
      "129.0736224\n"
     ]
    }
   ],
   "source": [
    "vec_1 = [0., 10., 5., None, 5., 1., 5., None]\n",
    "vec_2 = [1., None, 0., 7., 0., 2., 3., 10.]\n",
    "vec_3 = [15., 120., 10., 1., 2., 7., 15., 8.]\n",
    "print(eucledian_distance_nans(vec_1, vec_2))\n",
    "print(eucledian_distance_nans(vec_2, vec_3))\n",
    "print(eucledian_distance_nans(vec_3, vec_1))\n",
    "\n",
    "# LA RESPUESTA DEBE SER:\n",
    "# 9.46572765\n",
    "# 24.11875382\n",
    "# 129.0736224"
   ]
  },
  {
   "cell_type": "code",
   "execution_count": 5,
   "id": "4e6450a3",
   "metadata": {},
   "outputs": [],
   "source": [
    "def calculate_distance_matrix(X):\n",
    "    ref_len = len(X[0])\n",
    "    for vec in X:\n",
    "        if len(vec) != ref_len:\n",
    "            raise KeyError(\"No todos los vectores tienen la misma dimension\")\n",
    "    #TODO Paso 1: Crear una matriz de 0s con las dimensiones de la matriz de distancias. nxn donde n es el num. de vectores.\n",
    "    matrix = [[0. for _ in range(len(X))] for _ in range(len(X))]\n",
    "    #TODO: Llenar la matriz usando la función que acabamos de crear.\n",
    "    for i in range(len(X)):\n",
    "        for j in range(len(X)):\n",
    "            matrix[i][j] = eucledian_distance_nans(X[i],X[j])\n",
    "    return matrix\n",
    "    "
   ]
  },
  {
   "cell_type": "code",
   "execution_count": 6,
   "id": "ba90ec31",
   "metadata": {},
   "outputs": [
    {
     "name": "stdout",
     "output_type": "stream",
     "text": [
      "Matriz:\n",
      "[0.0, 10.0, 5.0, None, 5.0, 1.0, 5.0, None]\n",
      "[1.0, None, 0.0, 7.0, 0.0, 2.0, 3.0, 10.0]\n",
      "[15.0, 120.0, 10.0, 1.0, 2.0, 7.0, 15.0, 8.0]\n",
      "[0.0, None, 10.0, 17.0, 20.0, 32.0, 5.0, 0.0]\n",
      "[15.0, 120.0, 10.0, None, 3.0, 1.0, 0.0, 0.0]\n",
      "\n",
      "\n",
      "Matriz de distancias:\n",
      "[0.0, 9.46572765, 129.0736224, 44.01817806, 128.47308408]\n",
      "[9.46572765, 0.0, 24.11875382, 42.8285619, 23.52303835]\n",
      "[129.0736224, 24.11875382, 0.0, 42.68154502, 19.30210943]\n",
      "[44.01817806, 42.8285619, 42.68154502, 0.0, 44.72135955]\n",
      "[128.47308408, 23.52303835, 19.30210943, 44.72135955, 0.0]\n"
     ]
    }
   ],
   "source": [
    "vec_4 = [0., None, 10., 17., 20., 32., 5., 0.]\n",
    "vec_5 = [15., 120., 10., None, 3., 1., 0., 0.]\n",
    "matrix_1 = [vec_1, vec_2, vec_3, vec_4, vec_5]\n",
    "\n",
    "print(\"Matriz:\")\n",
    "for i in matrix_1:\n",
    "    print(i)\n",
    "print(\"\\n\")\n",
    "\n",
    "dist_matrix = calculate_distance_matrix(matrix_1)\n",
    "print(\"Matriz de distancias:\")\n",
    "for i in dist_matrix:\n",
    "    print(i)\n",
    "\n",
    "# LA RESPUESTA DEBE SER:\n",
    "# Matriz de distancias:\n",
    "# [0.0, 9.46572765, 129.0736224, 44.01817806, 128.47308408]\n",
    "# [9.46572765, 0.0, 24.11875382, 42.8285619, 23.52303835]\n",
    "# [129.0736224, 24.11875382, 0.0, 42.68154502, 19.30210943]\n",
    "# [44.01817806, 42.8285619, 42.68154502, 0.0, 44.72135955]\n",
    "# [128.47308408, 23.52303835, 19.30210943, 44.72135955, 0.0]"
   ]
  },
  {
   "cell_type": "markdown",
   "id": "1cfa9607",
   "metadata": {},
   "source": [
    "#### 2. Cálculo de los k vecinos más cercanos"
   ]
  },
  {
   "cell_type": "code",
   "execution_count": 7,
   "id": "3fc73ed5",
   "metadata": {},
   "outputs": [],
   "source": [
    "def generar_matriz_vecinos(k, X, X_dist):\n",
    "    \"\"\"\n",
    "    Genera una matriz que guarda el indice de los k vecinos más cercanos de cada vector en la matriz de distancias.\n",
    "    \"\"\"\n",
    "    # TODO Paso 1: Crear una matriz de 0s con las dimensiones de la matriz de vecinos. nxk donde n es el num. de vectores.\n",
    "    matriz_vecinos = [[0 for _ in range(k)] for _ in range(len(X))]\n",
    "    \n",
    "    # Paso 2: Llenar la matriz usando la matriz de distancias.\n",
    "    for i in range(len(X)):\n",
    "        # TODO :Obtener los indices de los k vecinos más cercanos a X[i] ordenados por distancia. Recuerde eliminar el indice del propio vector !\n",
    "        indices_vecinos = sorted(list(range(len(X_dist[i]))), key=lambda x: X_dist[i][x])\n",
    "        indices_vecinos.remove(i)\n",
    "        indices_vecinos = indices_vecinos[:k]\n",
    "\n",
    "        matriz_vecinos[i] = indices_vecinos\n",
    "    \n",
    "    return matriz_vecinos\n",
    " "
   ]
  },
  {
   "cell_type": "code",
   "execution_count": 8,
   "id": "034a6fee",
   "metadata": {},
   "outputs": [
    {
     "name": "stdout",
     "output_type": "stream",
     "text": [
      "[[1, 3], [0, 4], [4, 1], [2, 1], [2, 1]]\n"
     ]
    }
   ],
   "source": [
    "print(generar_matriz_vecinos(2, matrix_1, dist_matrix))\n",
    "# LA RESPUESTA DEBE SER:\n",
    "# [[1, 3], [0, 4], [4, 1], [2, 1], [2, 1]]"
   ]
  },
  {
   "cell_type": "markdown",
   "id": "cea46a45",
   "metadata": {},
   "source": [
    "#### 3. Imputar los valores faltantes usando la media de los k vecinos más cercanos"
   ]
  },
  {
   "cell_type": "code",
   "execution_count": 9,
   "id": "924a0631",
   "metadata": {},
   "outputs": [],
   "source": [
    "def knn_eucledian_imputer(X, k):\n",
    "    \"\"\"\n",
    "    Imputa los valores faltantes en la matriz X utilizando el algoritmo KNN.\n",
    "    \"\"\"\n",
    "    # Paso 1: Calcular la matriz de distancias entre los vectores de X.\n",
    "    dist_matrix = calculate_distance_matrix(X)\n",
    "    # Paso 2: Generar la matriz de indices de los k vecinos más cercanos.\n",
    "    vecinos = generar_matriz_vecinos(k, X, dist_matrix)\n",
    "    # Paso 3: Crear una copia de X para almacenar los valores imputados.\n",
    "    X_imputed = copy.deepcopy(X)\n",
    "\n",
    "    # Paso 4: Iterar sobre cada vector en X.\n",
    "    for idx in range(len(X)):\n",
    "        # Paso 5: Iterar sobre cada elemento del vector.\n",
    "        for jdx in range(len(X[idx])):\n",
    "            # Si el elemento es NaN, imputar su valor.\n",
    "            if X[idx][jdx] is None:\n",
    "                # TODO Paso 6: Obtener los valores de los k vecinos más cercanos.\n",
    "                indices_vecinos = vecinos[idx]\n",
    "                valores_vecinos_nonan = [X[vecino][jdx] for vecino in indices_vecinos if X[vecino][jdx] is not None]\n",
    "                # TODO Paso 7: Calcular la media de los valores de los vecinos y asignarla al elemento faltante. Ojo, considerar la excepción de que no haya vecinos con valores no NaN.\n",
    "                if valores_vecinos_nonan:\n",
    "                    X_imputed[idx][jdx] = sum(valores_vecinos_nonan) / len(valores_vecinos_nonan)\n",
    "                else:\n",
    "                    X_imputed[idx][jdx] = None\n",
    "    \n",
    "    return X_imputed"
   ]
  },
  {
   "cell_type": "code",
   "execution_count": 10,
   "id": "a1061a07",
   "metadata": {},
   "outputs": [
    {
     "name": "stdout",
     "output_type": "stream",
     "text": [
      "Matriz imputada:\n",
      "[0.0, 10.0, 5.0, 12.0, 5.0, 1.0, 5.0, 5.0]\n",
      "[1.0, 65.0, 0.0, 7.0, 0.0, 2.0, 3.0, 10.0]\n",
      "[15.0, 120.0, 10.0, 1.0, 2.0, 7.0, 15.0, 8.0]\n",
      "[0.0, 120.0, 10.0, 17.0, 20.0, 32.0, 5.0, 0.0]\n",
      "[15.0, 120.0, 10.0, 4.0, 3.0, 1.0, 0.0, 0.0]\n"
     ]
    }
   ],
   "source": [
    "imputed_matrix = knn_eucledian_imputer(matrix_1, 2)\n",
    "print(\"Matriz imputada:\")\n",
    "for i in imputed_matrix:\n",
    "    print(i)\n",
    "\n",
    "# LA RESPUESTA DEBE SER:\n",
    "# [0.0, 10.0, 5.0, 12.0, 5.0, 1.0, 5.0, 5.0]\n",
    "# [1.0, 65.0, 0.0, 7.0, 0.0, 2.0, 3.0, 10.0]\n",
    "# [15.0, 120.0, 10.0, 1.0, 2.0, 7.0, 15.0, 8.0]\n",
    "# [0.0, 92.5, 10.0, 17.0, 20.0, 32.0, 5.0, 0.0]\n",
    "# [15.0, 120.0, 10.0, 4.0, 3.0, 1.0, 0.0, 0.0]"
   ]
  },
  {
   "cell_type": "markdown",
   "id": "cd7d4cac",
   "metadata": {},
   "source": [
    "#### **Probemos nuestra implementación en los datos reales!**"
   ]
  },
  {
   "cell_type": "code",
   "execution_count": 11,
   "id": "fe43dc74",
   "metadata": {},
   "outputs": [
    {
     "name": "stdout",
     "output_type": "stream",
     "text": [
      "Tiempo de ejecución: 9.00 segundos\n",
      "Matriz imputada de Marengo:\n",
      "[13.508667, 19.367, 8.467, 1.9333334599999996, 42680.883, 13.708391, 35.28, 20.6, 3.4468565]\n",
      "[14.596166, 19.317001, 11.167, 5.2999997, 42684.59, 13.493999, 33.48, 21.49, 3.663233]\n",
      "[13.248249, 20.417, 8.217, 3.420000125, 42688.617, 10.446206, 30.599998, 23.35, 3.798374866666666]\n",
      "[12.804502, 19.417, 7.467, 1.3000001, 42692.95, 14.05845, 37.44, 25.6, 4.251072]\n",
      "[12.331582, 18.767, 5.267, 0.0, 42697.59, 15.39184, 36.36, 23.75, 3.9684093]\n",
      "[12.266999, 18.517, 5.217, 0.0, 42702.523, 15.119999, 38.519997, 24.43, 3.959472]\n",
      "[12.875333, 20.1795005, 5.817, 0.1, 43176.34922222223, 7.968939, 23.039999, 25.17, 4.401479]\n",
      "[11.935749, 20.267, 4.467, 0.0, 43361.967, 15.876775, 39.239998, 26.24, 4.566951]\n",
      "[13.164916, 20.522000400000003, 7.1670003, 0.0, 42719.04, 19.164717, 46.44, 23.83, 4.1956615]\n",
      "[12.521167, 18.667, 6.517, 0.075, 42725.094, 23.277834, 53.639996, 26.48, 4.431484]\n"
     ]
    }
   ],
   "source": [
    "marengo_lists = marengo_df.iloc[:,4:].values.tolist()\n",
    "marengo_lists = [[None if pd.isna(x) else x for x in row] for row in marengo_lists]\n",
    "start_time = time.time()\n",
    "imputed_marengo = knn_eucledian_imputer(marengo_lists, 10)\n",
    "end_time = time.time()\n",
    "print(f\"Tiempo de ejecución: {end_time - start_time:.2f} segundos\")\n",
    "print(\"Matriz imputada de Marengo:\")\n",
    "for i in imputed_marengo[:10]:  # Imprimimos solo las primeras 10 filas por brevedad\n",
    "    print(i)"
   ]
  },
  {
   "cell_type": "markdown",
   "id": "c68cb7d7",
   "metadata": {},
   "source": [
    "### Ex.2: Contruir un pipeline para aplicar KNN-I usando scikit-learn."
   ]
  },
  {
   "cell_type": "code",
   "execution_count": null,
   "id": "7aa219f0",
   "metadata": {},
   "outputs": [
    {
     "data": {
      "text/html": [
       "<div>\n",
       "<style scoped>\n",
       "    .dataframe tbody tr th:only-of-type {\n",
       "        vertical-align: middle;\n",
       "    }\n",
       "\n",
       "    .dataframe tbody tr th {\n",
       "        vertical-align: top;\n",
       "    }\n",
       "\n",
       "    .dataframe thead th {\n",
       "        text-align: right;\n",
       "    }\n",
       "</style>\n",
       "<table border=\"1\" class=\"dataframe\">\n",
       "  <thead>\n",
       "    <tr style=\"text-align: right;\">\n",
       "      <th></th>\n",
       "      <th>temperature_2m_mean</th>\n",
       "      <th>temperature_2m_max</th>\n",
       "      <th>temperature_2m_min</th>\n",
       "      <th>precipitation_sum</th>\n",
       "      <th>daylight_duration</th>\n",
       "      <th>wind_speed_10m_max</th>\n",
       "      <th>wind_gusts_10m_max</th>\n",
       "      <th>shortwave_radiation_sum</th>\n",
       "      <th>et0_fao_evapotranspiration</th>\n",
       "    </tr>\n",
       "  </thead>\n",
       "  <tbody>\n",
       "    <tr>\n",
       "      <th>0</th>\n",
       "      <td>25.043098</td>\n",
       "      <td>47.006362</td>\n",
       "      <td>21.231191</td>\n",
       "      <td>12.244961</td>\n",
       "      <td>2.888352e+07</td>\n",
       "      <td>75.931982</td>\n",
       "      <td>347.804676</td>\n",
       "      <td>86.987206</td>\n",
       "      <td>5.673011</td>\n",
       "    </tr>\n",
       "    <tr>\n",
       "      <th>1</th>\n",
       "      <td>25.977151</td>\n",
       "      <td>46.935064</td>\n",
       "      <td>25.301152</td>\n",
       "      <td>30.981112</td>\n",
       "      <td>2.888602e+07</td>\n",
       "      <td>74.963799</td>\n",
       "      <td>331.873203</td>\n",
       "      <td>89.876292</td>\n",
       "      <td>5.804465</td>\n",
       "    </tr>\n",
       "    <tr>\n",
       "      <th>2</th>\n",
       "      <td>24.819425</td>\n",
       "      <td>48.503652</td>\n",
       "      <td>20.854342</td>\n",
       "      <td>12.765409</td>\n",
       "      <td>2.888874e+07</td>\n",
       "      <td>61.200125</td>\n",
       "      <td>306.382829</td>\n",
       "      <td>95.914158</td>\n",
       "      <td>6.082544</td>\n",
       "    </tr>\n",
       "    <tr>\n",
       "      <th>3</th>\n",
       "      <td>24.438291</td>\n",
       "      <td>47.077662</td>\n",
       "      <td>19.723798</td>\n",
       "      <td>10.163167</td>\n",
       "      <td>2.889167e+07</td>\n",
       "      <td>77.512830</td>\n",
       "      <td>366.922443</td>\n",
       "      <td>103.218029</td>\n",
       "      <td>6.161591</td>\n",
       "    </tr>\n",
       "    <tr>\n",
       "      <th>4</th>\n",
       "      <td>24.032100</td>\n",
       "      <td>46.150768</td>\n",
       "      <td>16.407533</td>\n",
       "      <td>3.397333</td>\n",
       "      <td>2.889481e+07</td>\n",
       "      <td>83.534350</td>\n",
       "      <td>357.363559</td>\n",
       "      <td>97.212624</td>\n",
       "      <td>5.989867</td>\n",
       "    </tr>\n",
       "    <tr>\n",
       "      <th>5</th>\n",
       "      <td>23.976630</td>\n",
       "      <td>45.794270</td>\n",
       "      <td>16.332163</td>\n",
       "      <td>3.397333</td>\n",
       "      <td>2.889814e+07</td>\n",
       "      <td>82.306730</td>\n",
       "      <td>376.481300</td>\n",
       "      <td>99.420016</td>\n",
       "      <td>5.984437</td>\n",
       "    </tr>\n",
       "    <tr>\n",
       "      <th>6</th>\n",
       "      <td>24.499128</td>\n",
       "      <td>48.040206</td>\n",
       "      <td>17.236599</td>\n",
       "      <td>3.917782</td>\n",
       "      <td>2.923310e+07</td>\n",
       "      <td>50.012916</td>\n",
       "      <td>239.470652</td>\n",
       "      <td>101.822178</td>\n",
       "      <td>6.252967</td>\n",
       "    </tr>\n",
       "    <tr>\n",
       "      <th>7</th>\n",
       "      <td>23.692120</td>\n",
       "      <td>48.289753</td>\n",
       "      <td>15.201618</td>\n",
       "      <td>3.397333</td>\n",
       "      <td>2.928567e+07</td>\n",
       "      <td>85.724291</td>\n",
       "      <td>382.853898</td>\n",
       "      <td>105.295574</td>\n",
       "      <td>6.353495</td>\n",
       "    </tr>\n",
       "    <tr>\n",
       "      <th>8</th>\n",
       "      <td>24.747851</td>\n",
       "      <td>47.968906</td>\n",
       "      <td>19.271580</td>\n",
       "      <td>3.397333</td>\n",
       "      <td>2.890930e+07</td>\n",
       "      <td>100.572466</td>\n",
       "      <td>446.579807</td>\n",
       "      <td>97.472317</td>\n",
       "      <td>6.127928</td>\n",
       "    </tr>\n",
       "    <tr>\n",
       "      <th>9</th>\n",
       "      <td>24.194935</td>\n",
       "      <td>46.008169</td>\n",
       "      <td>18.291774</td>\n",
       "      <td>3.397333</td>\n",
       "      <td>2.891339e+07</td>\n",
       "      <td>119.147088</td>\n",
       "      <td>510.305662</td>\n",
       "      <td>106.074653</td>\n",
       "      <td>6.271195</td>\n",
       "    </tr>\n",
       "  </tbody>\n",
       "</table>\n",
       "</div>"
      ],
      "text/plain": [
       "   temperature_2m_mean  temperature_2m_max  temperature_2m_min  \\\n",
       "0            25.043098           47.006362           21.231191   \n",
       "1            25.977151           46.935064           25.301152   \n",
       "2            24.819425           48.503652           20.854342   \n",
       "3            24.438291           47.077662           19.723798   \n",
       "4            24.032100           46.150768           16.407533   \n",
       "5            23.976630           45.794270           16.332163   \n",
       "6            24.499128           48.040206           17.236599   \n",
       "7            23.692120           48.289753           15.201618   \n",
       "8            24.747851           47.968906           19.271580   \n",
       "9            24.194935           46.008169           18.291774   \n",
       "\n",
       "   precipitation_sum  daylight_duration  wind_speed_10m_max  \\\n",
       "0          12.244961       2.888352e+07           75.931982   \n",
       "1          30.981112       2.888602e+07           74.963799   \n",
       "2          12.765409       2.888874e+07           61.200125   \n",
       "3          10.163167       2.889167e+07           77.512830   \n",
       "4           3.397333       2.889481e+07           83.534350   \n",
       "5           3.397333       2.889814e+07           82.306730   \n",
       "6           3.917782       2.923310e+07           50.012916   \n",
       "7           3.397333       2.928567e+07           85.724291   \n",
       "8           3.397333       2.890930e+07          100.572466   \n",
       "9           3.397333       2.891339e+07          119.147088   \n",
       "\n",
       "   wind_gusts_10m_max  shortwave_radiation_sum  et0_fao_evapotranspiration  \n",
       "0          347.804676                86.987206                    5.673011  \n",
       "1          331.873203                89.876292                    5.804465  \n",
       "2          306.382829                95.914158                    6.082544  \n",
       "3          366.922443               103.218029                    6.161591  \n",
       "4          357.363559                97.212624                    5.989867  \n",
       "5          376.481300                99.420016                    5.984437  \n",
       "6          239.470652               101.822178                    6.252967  \n",
       "7          382.853898               105.295574                    6.353495  \n",
       "8          446.579807                97.472317                    6.127928  \n",
       "9          510.305662               106.074653                    6.271195  "
      ]
     },
     "execution_count": 12,
     "metadata": {},
     "output_type": "execute_result"
    }
   ],
   "source": [
    "# TODO Escalar los datos para mejorar la precisión del KNN usando la clase StandardScaler de sklearn.\n",
    "scaler = StandardScaler()\n",
    "scaled_data = scaler.fit_transform(marengo_df.iloc[:, 4:])\n",
    "# TODO usar la implementacion del algoritmo KNN de sklearn para imputar los valores faltantes de la matriz de Marengo.\n",
    "# Este es el ejercicio más sencillo, ya que sklearn se encarga de todo el proceso de cálculo de distancias y vecinos.\n",
    "# Puede resolverse usando solo dos lineas de codigo, una para crear una instacia de la clase KNNImputer y otra para imputar los valores faltantes.\n",
    "imputer = KNNImputer(n_neighbors=2)\n",
    "start_time = time.time()\n",
    "imputed_array = imputer.fit_transform(marengo_df.iloc[:, 4:])\n",
    "end_time = time.time()\n",
    "# Invertir el escalado para que los datos imputados estén en la misma escala que los originales.\n",
    "imputed_array = scaler.inverse_transform(imputed_array)\n",
    "# Tomar los resultados y convertirlos de nuevo en DataFrame :)\n",
    "imputed_df_knn = pd.DataFrame(imputed_array, columns=marengo_df.iloc[:, 4:].columns)\n",
    "print(f\"Tiempo de ejecución: {end_time - start_time:.2f} segundos\")\n",
    "imputed_df_knn.head(10)\n",
    "\n"
   ]
  },
  {
   "cell_type": "markdown",
   "id": "cc78a9a8",
   "metadata": {},
   "source": [
    "### Ex.3: Implementar MissForest usando los bloques de construcción que ofrece scikit-learn."
   ]
  },
  {
   "cell_type": "code",
   "execution_count": null,
   "id": "6ea1266e",
   "metadata": {},
   "outputs": [
    {
     "name": "stderr",
     "output_type": "stream",
     "text": [
      "/home/julagu/miniconda3/envs/ML_imputation/lib/python3.10/site-packages/sklearn/impute/_iterative.py:895: ConvergenceWarning: [IterativeImputer] Early stopping criterion not reached.\n",
      "  warnings.warn(\n"
     ]
    },
    {
     "data": {
      "text/html": [
       "<div>\n",
       "<style scoped>\n",
       "    .dataframe tbody tr th:only-of-type {\n",
       "        vertical-align: middle;\n",
       "    }\n",
       "\n",
       "    .dataframe tbody tr th {\n",
       "        vertical-align: top;\n",
       "    }\n",
       "\n",
       "    .dataframe thead th {\n",
       "        text-align: right;\n",
       "    }\n",
       "</style>\n",
       "<table border=\"1\" class=\"dataframe\">\n",
       "  <thead>\n",
       "    <tr style=\"text-align: right;\">\n",
       "      <th></th>\n",
       "      <th>temperature_2m_mean</th>\n",
       "      <th>temperature_2m_max</th>\n",
       "      <th>temperature_2m_min</th>\n",
       "      <th>precipitation_sum</th>\n",
       "      <th>daylight_duration</th>\n",
       "      <th>wind_speed_10m_max</th>\n",
       "      <th>wind_gusts_10m_max</th>\n",
       "      <th>shortwave_radiation_sum</th>\n",
       "      <th>et0_fao_evapotranspiration</th>\n",
       "    </tr>\n",
       "  </thead>\n",
       "  <tbody>\n",
       "    <tr>\n",
       "      <th>0</th>\n",
       "      <td>13.508667</td>\n",
       "      <td>19.367000</td>\n",
       "      <td>8.467</td>\n",
       "      <td>4.18</td>\n",
       "      <td>42680.8830</td>\n",
       "      <td>13.708391</td>\n",
       "      <td>35.280000</td>\n",
       "      <td>20.60</td>\n",
       "      <td>3.446856</td>\n",
       "    </tr>\n",
       "    <tr>\n",
       "      <th>1</th>\n",
       "      <td>14.596166</td>\n",
       "      <td>19.317001</td>\n",
       "      <td>11.167</td>\n",
       "      <td>5.30</td>\n",
       "      <td>42684.5900</td>\n",
       "      <td>13.493999</td>\n",
       "      <td>33.480000</td>\n",
       "      <td>21.49</td>\n",
       "      <td>3.663233</td>\n",
       "    </tr>\n",
       "    <tr>\n",
       "      <th>2</th>\n",
       "      <td>13.248249</td>\n",
       "      <td>20.417000</td>\n",
       "      <td>8.217</td>\n",
       "      <td>1.59</td>\n",
       "      <td>42688.6170</td>\n",
       "      <td>10.446206</td>\n",
       "      <td>30.599998</td>\n",
       "      <td>23.35</td>\n",
       "      <td>4.145288</td>\n",
       "    </tr>\n",
       "    <tr>\n",
       "      <th>3</th>\n",
       "      <td>12.804502</td>\n",
       "      <td>19.417000</td>\n",
       "      <td>7.467</td>\n",
       "      <td>1.30</td>\n",
       "      <td>42692.9500</td>\n",
       "      <td>14.058450</td>\n",
       "      <td>37.440000</td>\n",
       "      <td>25.60</td>\n",
       "      <td>4.251072</td>\n",
       "    </tr>\n",
       "    <tr>\n",
       "      <th>4</th>\n",
       "      <td>12.331582</td>\n",
       "      <td>18.767000</td>\n",
       "      <td>5.267</td>\n",
       "      <td>0.00</td>\n",
       "      <td>42697.5900</td>\n",
       "      <td>15.391840</td>\n",
       "      <td>36.360000</td>\n",
       "      <td>23.75</td>\n",
       "      <td>3.968409</td>\n",
       "    </tr>\n",
       "    <tr>\n",
       "      <th>5</th>\n",
       "      <td>12.266999</td>\n",
       "      <td>18.517000</td>\n",
       "      <td>5.217</td>\n",
       "      <td>0.00</td>\n",
       "      <td>42702.5230</td>\n",
       "      <td>15.119999</td>\n",
       "      <td>38.519997</td>\n",
       "      <td>24.43</td>\n",
       "      <td>3.959472</td>\n",
       "    </tr>\n",
       "    <tr>\n",
       "      <th>6</th>\n",
       "      <td>12.875333</td>\n",
       "      <td>20.317001</td>\n",
       "      <td>5.817</td>\n",
       "      <td>0.10</td>\n",
       "      <td>43181.6338</td>\n",
       "      <td>7.968939</td>\n",
       "      <td>23.039999</td>\n",
       "      <td>25.17</td>\n",
       "      <td>4.401479</td>\n",
       "    </tr>\n",
       "    <tr>\n",
       "      <th>7</th>\n",
       "      <td>11.935749</td>\n",
       "      <td>20.267000</td>\n",
       "      <td>4.467</td>\n",
       "      <td>1.16</td>\n",
       "      <td>43730.5948</td>\n",
       "      <td>15.876775</td>\n",
       "      <td>39.239998</td>\n",
       "      <td>26.24</td>\n",
       "      <td>4.566951</td>\n",
       "    </tr>\n",
       "    <tr>\n",
       "      <th>8</th>\n",
       "      <td>13.164916</td>\n",
       "      <td>20.277001</td>\n",
       "      <td>7.167</td>\n",
       "      <td>0.00</td>\n",
       "      <td>42719.0400</td>\n",
       "      <td>19.164717</td>\n",
       "      <td>46.440000</td>\n",
       "      <td>23.83</td>\n",
       "      <td>4.195661</td>\n",
       "    </tr>\n",
       "    <tr>\n",
       "      <th>9</th>\n",
       "      <td>12.521167</td>\n",
       "      <td>18.667000</td>\n",
       "      <td>6.517</td>\n",
       "      <td>0.16</td>\n",
       "      <td>42725.0940</td>\n",
       "      <td>23.277834</td>\n",
       "      <td>53.639996</td>\n",
       "      <td>26.48</td>\n",
       "      <td>4.431484</td>\n",
       "    </tr>\n",
       "  </tbody>\n",
       "</table>\n",
       "</div>"
      ],
      "text/plain": [
       "   temperature_2m_mean  temperature_2m_max  temperature_2m_min  \\\n",
       "0            13.508667           19.367000               8.467   \n",
       "1            14.596166           19.317001              11.167   \n",
       "2            13.248249           20.417000               8.217   \n",
       "3            12.804502           19.417000               7.467   \n",
       "4            12.331582           18.767000               5.267   \n",
       "5            12.266999           18.517000               5.217   \n",
       "6            12.875333           20.317001               5.817   \n",
       "7            11.935749           20.267000               4.467   \n",
       "8            13.164916           20.277001               7.167   \n",
       "9            12.521167           18.667000               6.517   \n",
       "\n",
       "   precipitation_sum  daylight_duration  wind_speed_10m_max  \\\n",
       "0               4.18         42680.8830           13.708391   \n",
       "1               5.30         42684.5900           13.493999   \n",
       "2               1.59         42688.6170           10.446206   \n",
       "3               1.30         42692.9500           14.058450   \n",
       "4               0.00         42697.5900           15.391840   \n",
       "5               0.00         42702.5230           15.119999   \n",
       "6               0.10         43181.6338            7.968939   \n",
       "7               1.16         43730.5948           15.876775   \n",
       "8               0.00         42719.0400           19.164717   \n",
       "9               0.16         42725.0940           23.277834   \n",
       "\n",
       "   wind_gusts_10m_max  shortwave_radiation_sum  et0_fao_evapotranspiration  \n",
       "0           35.280000                    20.60                    3.446856  \n",
       "1           33.480000                    21.49                    3.663233  \n",
       "2           30.599998                    23.35                    4.145288  \n",
       "3           37.440000                    25.60                    4.251072  \n",
       "4           36.360000                    23.75                    3.968409  \n",
       "5           38.519997                    24.43                    3.959472  \n",
       "6           23.039999                    25.17                    4.401479  \n",
       "7           39.239998                    26.24                    4.566951  \n",
       "8           46.440000                    23.83                    4.195661  \n",
       "9           53.639996                    26.48                    4.431484  "
      ]
     },
     "execution_count": 13,
     "metadata": {},
     "output_type": "execute_result"
    }
   ],
   "source": [
    "# TODO Escalar los datos\n",
    "scaler = StandardScaler()\n",
    "scaled_data = scaler.fit_transform(marengo_df.iloc[:, 4:])\n",
    "\n",
    "# TODO Imputar usando IterativeImputer con RandomForestRegressor\n",
    "imputer = IterativeImputer(estimator=RandomForestRegressor(n_estimators=10, random_state=42), \n",
    "                           max_iter=100, random_state=42)\n",
    "start_time = time.time()\n",
    "imputed_scaled = imputer.fit_transform(scaled_data)\n",
    "end_time = time.time()\n",
    "\n",
    "imputed_data = scaler.inverse_transform(imputed_scaled)\n",
    "imputed_df_mf = pd.DataFrame(imputed_data, columns=marengo_df.iloc[:, 4:].columns)\n",
    "print(f\"Tiempo de ejecución: {end_time - start_time:.2f} segundos\")\n",
    "imputed_df_mf.head(10)"
   ]
  },
  {
   "cell_type": "markdown",
   "id": "1bfef39f",
   "metadata": {},
   "source": [
    "### Ex4. Elegir un conjunto de metricas y comparar las 2 tecnicas !"
   ]
  },
  {
   "cell_type": "code",
   "execution_count": null,
   "id": "de91807a",
   "metadata": {},
   "outputs": [],
   "source": [
    "# TODO Ver la documentacion de Sklearn y utilizar metricas de regresión para evaluar la calidad de la imputación. Recuerden que tenemos los datos reales !!!\n",
    "from sklearn.metrics import root_mean_squared_error, mean_absolute_error, r2_score\n",
    "def eval(name, y, y_hat):\n",
    "    eval = {\n",
    "        \"model\": name,\n",
    "        \"rmse\": root_mean_squared_error(y,y_hat),\n",
    "        \"mae\": mean_absolute_error(y, y_hat),\n",
    "        \"r2\": r2_score(y, y_hat),\n",
    "    }\n",
    "    return eval\n",
    "\n",
    "real_marengo = pd.read_csv(\"../src/marengo.csv\")\n",
    "real_marengo = real_marengo.iloc[:, 4:].to_numpy()\n",
    "values = marengo_df.iloc[:, 4:].to_numpy()\n",
    "nans_coords = np.argwhere(np.isnan(values))\n",
    "array_knn = imputed_df_knn.to_numpy()\n",
    "array_mf = imputed_df_mf.to_numpy()"
   ]
  },
  {
   "cell_type": "code",
   "execution_count": 15,
   "id": "991e69f5",
   "metadata": {},
   "outputs": [],
   "source": [
    "results = [eval(\"KNNI\", real_marengo[nans_coords[:, 0], nans_coords[:, 1]],\n",
    "                array_knn[nans_coords[:, 0], nans_coords[:, 1]]),\n",
    "           eval(\"MissForest\", real_marengo[nans_coords[:, 0], nans_coords[:, 1]],\n",
    "                array_mf[nans_coords[:, 0], nans_coords[:, 1]])]\n",
    "\n",
    "df_results = pd.DataFrame(results)"
   ]
  },
  {
   "cell_type": "code",
   "execution_count": 16,
   "id": "d7fd5804",
   "metadata": {},
   "outputs": [
    {
     "name": "stdout",
     "output_type": "stream",
     "text": [
      "[{'model': 'KNNI', 'rmse': 9989530.422944533, 'mae': 3382648.2023601444, 'r2': -516055.06926382356}, {'model': 'MissForest', 'rmse': 208.3586842506935, 'mae': 57.31706602384783, 'r2': 0.9997754929646829}]\n"
     ]
    }
   ],
   "source": [
    "print(results)"
   ]
  },
  {
   "cell_type": "code",
   "execution_count": 17,
   "id": "6a4544d4",
   "metadata": {},
   "outputs": [
    {
     "data": {
      "text/html": [
       "<div>\n",
       "<style scoped>\n",
       "    .dataframe tbody tr th:only-of-type {\n",
       "        vertical-align: middle;\n",
       "    }\n",
       "\n",
       "    .dataframe tbody tr th {\n",
       "        vertical-align: top;\n",
       "    }\n",
       "\n",
       "    .dataframe thead th {\n",
       "        text-align: right;\n",
       "    }\n",
       "</style>\n",
       "<table border=\"1\" class=\"dataframe\">\n",
       "  <thead>\n",
       "    <tr style=\"text-align: right;\">\n",
       "      <th></th>\n",
       "      <th>model</th>\n",
       "      <th>rmse</th>\n",
       "      <th>mae</th>\n",
       "      <th>r2</th>\n",
       "    </tr>\n",
       "  </thead>\n",
       "  <tbody>\n",
       "    <tr>\n",
       "      <th>0</th>\n",
       "      <td>KNNI</td>\n",
       "      <td>9.989530e+06</td>\n",
       "      <td>3.382648e+06</td>\n",
       "      <td>-516055.069264</td>\n",
       "    </tr>\n",
       "    <tr>\n",
       "      <th>1</th>\n",
       "      <td>MissForest</td>\n",
       "      <td>2.083587e+02</td>\n",
       "      <td>5.731707e+01</td>\n",
       "      <td>0.999775</td>\n",
       "    </tr>\n",
       "  </tbody>\n",
       "</table>\n",
       "</div>"
      ],
      "text/plain": [
       "        model          rmse           mae             r2\n",
       "0        KNNI  9.989530e+06  3.382648e+06 -516055.069264\n",
       "1  MissForest  2.083587e+02  5.731707e+01       0.999775"
      ]
     },
     "execution_count": 17,
     "metadata": {},
     "output_type": "execute_result"
    }
   ],
   "source": [
    "df_results"
   ]
  }
 ],
 "metadata": {
  "kernelspec": {
   "display_name": "ML_imputation",
   "language": "python",
   "name": "python3"
  },
  "language_info": {
   "codemirror_mode": {
    "name": "ipython",
    "version": 3
   },
   "file_extension": ".py",
   "mimetype": "text/x-python",
   "name": "python",
   "nbconvert_exporter": "python",
   "pygments_lexer": "ipython3",
   "version": "3.10.0"
  }
 },
 "nbformat": 4,
 "nbformat_minor": 5
}
